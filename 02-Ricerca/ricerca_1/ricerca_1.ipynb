{
 "cells": [
  {
   "cell_type": "markdown",
   "metadata": {},
   "source": [
    "# Ricerca su grafi\n",
    "Molti problemi possono essere modellati coem dei problemi di ricerca su grafi.\n",
    "\n",
    "- **Stato iniziale**: stato da cui parte la ricerca.\n",
    "- **Stato finale**: stato che si vuole raggiungere.\n",
    "- **Stato corrente**: stato in cui si trova l'algoritmo.\n",
    "- **Operatore**: azione che modifica lo stato corrente.\n",
    "- **Cammino**: sequenza di stati che porta dallo stato iniziale a quello corrente.\n",
    "- **Costo del cammino**: costo totale per raggiungere lo stato corrente.\n",
    "\n",
    "Non tutte queste informazioni sono necessarie e/o disponibili per ogni problema."
   ]
  },
  {
   "cell_type": "markdown",
   "metadata": {},
   "source": [
    "Iniziamo modellando un grafo in modo esplicito. \n",
    "- Il grafo è rappresentabile con un dizionario di liste (di adiacenza).\n",
    "- Le chiavi del dizionario esterno sono i nodi del grafo.\n",
    "- Se il grafo non è orientato ogni arco è rappresentato due volte."
   ]
  },
  {
   "cell_type": "code",
   "execution_count": 2,
   "metadata": {},
   "outputs": [],
   "source": [
    "graph = {\n",
    "    'A': ['B', 'C'],\n",
    "    'B': ['A', 'D', 'E'],\n",
    "    'C': ['A', 'F'],\n",
    "    'D': ['B', 'G'],\n",
    "    'E': ['B', 'G'],\n",
    "    'F': ['C', 'G'],\n",
    "    'G': ['D', 'E', 'F']\n",
    "}"
   ]
  },
  {
   "cell_type": "markdown",
   "metadata": {},
   "source": [
    "In questo primo esempio, il problema è quello di trovare un cammino che porti dal nodo $A$ al nodo $D$ (se esite) attraversando il minor numero di archi.\n",
    "\n",
    "- **Stato iniziale**: $A$\n",
    "- **Stato finale**: $D$\n",
    "- **Stato corrente**: Il nodo in cui si trova l'algoritmo ad ogni passo.\n",
    "- **Operatore**: Spostarsi su un nodo adiacente.\n",
    "- **Costo del cammino**: Numero di archi attraversati.\n",
    "\n",
    "Volendo attraversare il minor numero di archi, possiamo utilizzare una ricerca in ampiezza (Breadth-First)."
   ]
  },
  {
   "cell_type": "code",
   "execution_count": null,
   "metadata": {},
   "outputs": [],
   "source": [
    "class Agent():\n",
    "    def __init__(self, graph, start, goal):\n",
    "        self.graph = graph\n",
    "        self.goal = goal\n",
    "        self.frontier = [[start]]\n",
    "\n",
    "    def next_states(self, path):\n",
    "        pass\n",
    "\n",
    "    def is_goal(self, state):\n",
    "        pass\n",
    "\n",
    "    def bfs(self):\n",
    "        pass"
   ]
  },
  {
   "cell_type": "markdown",
   "metadata": {},
   "source": [
    "## L'algoritmo BFS\n",
    "\n",
    "1. Se la frontiera è vuota, restituisci `None`\n",
    "2. Prendi il primo cammino dalla frontiera.\n",
    "3. Se l'ultimo stato del cammino è uno stato goal, restituisci il cammino.\n",
    "4. Altrimenti, genera tutti i cammini ottenibili aggiungendo un nuovo stato alla fine del cammino (evitando cicli).\n",
    "5. Aggiungi i nuovi cammini alla frontiera.\n",
    "6. Ripeti dal passo (1)."
   ]
  },
  {
   "cell_type": "code",
   "execution_count": 71,
   "metadata": {},
   "outputs": [],
   "source": [
    "class Agent():\n",
    "    def __init__(self, graph, start, goal):\n",
    "        self.graph = graph\n",
    "        self.goal = goal\n",
    "        self.frontier = [[start]]\n",
    "        self.result = self.bfs_yield() # metodo con yield, altrimenti self.bfs() ritorna una singola lista\n",
    "\n",
    "        # Flag per vedere se qualche cammino è stato trovato\n",
    "        found = False\n",
    "\n",
    "        # Iteriamo su tutti i cammini generati\n",
    "        for cammino in self.result:\n",
    "            found = True\n",
    "            print(\"Path to goal found:\")\n",
    "            self.print_cammino(cammino)  # Stampa il cammino trovato\n",
    "\n",
    "        if not found:\n",
    "            print(\"No path to the goal was found.\")\n",
    "\n",
    "\n",
    "    def next_states(self, path):\n",
    "        # il percorso e' una lista del tipo [nodo0, nodo1, nodo2]\n",
    "        # va preso l'ultimo nodo con pop() e vanno verificati\n",
    "        # i suoi vicini. Non vanno presi vicini gia' presenti\n",
    "        # nel percorso per evitare cicli.\n",
    "        node = path[-1]\n",
    "        next_states = self.graph.get(node)\n",
    "        return [x for x in next_states if not x in path]\n",
    "\n",
    "    def print_cammino(self, cammino):\n",
    "        for i in range(len(cammino)-1):\n",
    "            print(f'{cammino[i]} -> ', end=\"\")\n",
    "        print(f'{cammino[-1]}')\n",
    "\n",
    "    def print_frontiera(self):\n",
    "        print(\"Frontiers: \")\n",
    "        for i in range(len(self.frontier)):\n",
    "            print(self.frontier[i])\n",
    "\n",
    "\n",
    "    def is_goal(self, state):\n",
    "        if state == self.goal:\n",
    "            return True\n",
    "        return False\n",
    "\n",
    "    def bfs(self):\n",
    "        while True:\n",
    "            if not self.frontier:\n",
    "                return None\n",
    "\n",
    "            # prelevo una lista (cammino)\n",
    "            cammino = self.frontier.pop(0)\n",
    "\n",
    "            # prelevo l'ultimo nodo del cammino\n",
    "            last_state = cammino[-1]\n",
    "            #print(\"Last State: \", last_state)\n",
    "\n",
    "\n",
    "            # verifico che l'ultimo nodo sia un goal\n",
    "            if self.is_goal(last_state):\n",
    "                return cammino\n",
    "\n",
    "            # se non e' un goal, calcolo i possibili percorsi da quel nodo\n",
    "            # genero poi i nuovi cammini\n",
    "            next_states = self.next_states(cammino)\n",
    "            for new_state in next_states:\n",
    "                new_cammino = list(cammino)\n",
    "                new_cammino.append(new_state)\n",
    "                self.frontier.append(new_cammino)\n",
    "\n",
    "            #self.print_frontiera()\n",
    "\n",
    "    # Implementazione alternativa di bfs() con yield\n",
    "    def bfs_yield(self):\n",
    "\n",
    "        if not self.frontier:\n",
    "            return None\n",
    "\n",
    "        # prelevo una lista (cammino)\n",
    "        cammino = self.frontier.pop(0)\n",
    "\n",
    "        # anziche' prelevare l'ultimo nodo del cammino, faccio tutto in un'unica riga\n",
    "        if self.is_goal(cammino[-1]):\n",
    "            # yield permette di continuare la ricerca anche dopo aver trovato la soluzione, restituendo una lista di cammini di lunghezza crescente.\n",
    "            # utilizzando return ci assicuriamo di terminale l'esecuzione trovato il percorso piu' breve\n",
    "            yield cammino\n",
    "\n",
    "        # NOTA BENE: se avessimo un \"else\" qui, una volta trovato il goal,\n",
    "        # non verrebbero più cercati altri percorsi nonostante l'utilizzo\n",
    "        # del \"yield\" (che permette di continuare la ricerca)\n",
    "\n",
    "        next_paths = []\n",
    "        for state in self.next_states(cammino):\n",
    "                next_paths.append(cammino + [state])\n",
    "        self.frontier += next_paths\n",
    "        yield from self.bfs_yield()\n"
   ]
  },
  {
   "cell_type": "code",
   "execution_count": 72,
   "metadata": {},
   "outputs": [
    {
     "name": "stdout",
     "output_type": "stream",
     "text": [
      "Path to goal found:\n",
      "A -> B -> D\n",
      "Path to goal found:\n",
      "A -> B -> E -> G -> D\n",
      "Path to goal found:\n",
      "A -> C -> F -> G -> D\n",
      "Path to goal found:\n",
      "A -> C -> F -> G -> E -> B -> D\n"
     ]
    }
   ],
   "source": [
    "agent_bfs = Agent(graph=graph, start='A', goal='D')\n"
   ]
  },
  {
   "cell_type": "markdown",
   "metadata": {},
   "source": [
    "### Implementazioni alternative\n",
    "- È possibile implementare lo stesso comportamento rappresentando il grafo come lista di archi?\n",
    "\n",
    "- La ricerca in ampiezza puo essere implementata in modo iterativo?\n",
    "\n",
    "## Considerazioni aggiuntive\n",
    "Non sempre è possibile modellare un grafo in modo esplicito.\n",
    "\n",
    "- Il numero di stati puo' essere infinito.\n",
    "- Il grafo puo' essere troppo grande per essere memorizzato.\n",
    "- Il grafo puo' essere dinamico\n",
    "- L'adiacenza puo' essere determinata da una funzione.\n",
    "\n",
    "La funzione `next_states` puo' quindi dover fare valutazioni meno banali.\n",
    "- Facciamo quindi uso di *operatori di trasformazione di stato*\n",
    "- Dato uno stato ed una azione, un operatore di trasformazione di stato restituisce un nuovo stato."
   ]
  },
  {
   "cell_type": "markdown",
   "metadata": {},
   "source": [
    "# Cannibali e missionari\n",
    "Tre missionari e tre cannibali devono attraversare un fiume.\n",
    "1. Missionari e cannibali sono inizialmente sulla sponda sinistra del fiume e devono raggiungere la sponda destra.\n",
    "2. Per farlo, hanno a disposizione una barca che puo' contenere al massimo due persone.\n",
    "3. La barca non puo' attraversare il fiume senza nessuno a bordo.\n",
    "4. Il numero di cannibali non puo' mai essere superiore al numero di cannibali su una delle due sponde.\n",
    "\n",
    "L'obiettivo e' quello di trovare una sequenza minima di azioni che permetta a tutti di attraversare il fiume."
   ]
  },
  {
   "cell_type": "code",
   "execution_count": null,
   "metadata": {},
   "outputs": [],
   "source": [
    "class Agent():\n",
    "    def __init__(self):\n",
    "        pass\n",
    "\n",
    "    def is_valid(self, state):\n",
    "        pass # controlla se lo stato rispetta le regole del problema\n",
    "\n",
    "    def apply_move(self, state, move):\n",
    "        pass # applica una mossa ad uno stato\n",
    "\n",
    "    def next_states(self, state):\n",
    "        pass # genera tutti gli stati raggiungibili da uno stato\n",
    "\n",
    "    def is_goal(self, state):\n",
    "        pass\n",
    "\n",
    "    def bfs(self):\n",
    "        pass # implementa la ricerca in ampiezza"
   ]
  },
  {
   "cell_type": "markdown",
   "metadata": {},
   "source": [
    "Il primo problema che bisogna porsi in un problema di ricerca è come rappresentare lo stato. In questo caso rappresentiamo lo stato come un dizionario:"
   ]
  },
  {
   "cell_type": "code",
   "execution_count": null,
   "metadata": {},
   "outputs": [],
   "source": [
    "start = {\n",
    "    'L': {'m': 3, 'c': 3},\n",
    "    'R': {'m': 0, 'c': 0},\n",
    "    'boat': 'L'\n",
    "}\n",
    "\n",
    "goal = {\n",
    "    'L': {'m': 0, 'c': 0},\n",
    "    'R': {'m': 3, 'c': 3},\n",
    "    'boat': 'R'\n",
    "}"
   ]
  },
  {
   "cell_type": "markdown",
   "metadata": {},
   "source": [
    "Rappresentare esplicitamente tutti gli stati possibili e le loro transizioni sarebbe troppo dispendioso. Definiamo quindi una lista di azioni possibili che, applicate ad uno stato, generano un nuovo stato.\n",
    "\n",
    "Data la posizione della barca, le azioni possibili sono:\n",
    "1. `{'m': 1, 'c': 0}`: spostare un missionario\n",
    "2. `{'m': 0, 'c': 1}`: spostare un cannibale\n",
    "3. `{'m': 1, 'c': 1}`: spostare un missionario e un cannibale\n",
    "4. `{'m': 2, 'c': 0}`: spostare due missionari\n",
    "5. `{'m': 0, 'c': 2}`: spostare due cannibali\n",
    "\n",
    "Non tutte le azioni sono pero' sempre possibili o risultano in uno stato valido.\n"
   ]
  },
  {
   "cell_type": "markdown",
   "metadata": {},
   "source": [
    "Necessitiamo di una funzione che ci permetta di verificare se uno stato e' valido secondo le regole del problema per rimuovere gli stati non validi dalla frontiera.\n",
    "\n",
    "Uno stato e' valido se in ogni sponda il numero di missionari e' maggiore o uguale al numero di cannibali, oppure se non ci sono missionari su quella sponda (e non ci sono quantita' negative di persone)."
   ]
  },
  {
   "cell_type": "code",
   "execution_count": null,
   "metadata": {},
   "outputs": [],
   "source": [
    "def is_valid(self, state):\n",
    "    for side in ['L', 'R']:\n",
    "        if state[side]['m'] < 0 or state[side]['c'] < 0:\n",
    "            return False\n",
    "        if state[side]['m'] > 0 and state[side]['c'] > state[side]['m']:\n",
    "            return False\n",
    "    return True"
   ]
  },
  {
   "cell_type": "markdown",
   "metadata": {},
   "source": [
    "Dato uno stato e una mossa, dobbiamo generare un nuovo stato. Per prima cosa copiamo lo stato corrente. Cambiamo la posizione della barca, e rimuoviamo le persone dalla sponda di partenza e le aggiungiamo alla sponda di arrivo.\n",
    "\n",
    "Uno stato e' rappresentato da un dizionario che tiene traccia dei missionari e dei cannibali."
   ]
  },
  {
   "cell_type": "code",
   "execution_count": null,
   "metadata": {},
   "outputs": [],
   "source": [
    "import copy\n",
    "\n",
    "def apply_move(self, state, move):\n",
    "    # la copia profonda serve a fare in modo che eventuali\n",
    "    # oggetti interni all'oggetto attuale, vengano copiati\n",
    "    # per contenuto e non per riferimento, come invece avviene\n",
    "    # nelle copie normali\n",
    "    new_state = copy.deepcopy(state)\n",
    "    # applicando una mossa sposto la barca a sinistra o destra\n",
    "    new_state['boat'] = 'L' if state['boat'] == 'R' else 'R'\n",
    "    for person in ['m', 'c']:\n",
    "        # la barca nel vecchio stato rappresenta il punto di partenza\n",
    "        # la barca nel nuovo stato rappresenta il punto di arrivo\n",
    "        # le persone vengono tolte dalla riva di partenza\n",
    "        # e aggiunte alla riva d'arrivo\n",
    "        new_state[state['boat']][person] -= move[person]\n",
    "        new_state[new_state['boat']][person] += move[person]\n",
    "    return new_state"
   ]
  },
  {
   "cell_type": "markdown",
   "metadata": {},
   "source": [
    "Creiamo nuovi stati prendendo in considerazione tutte le azioni possibili. Solamente le azioni che non violano le regole del problema verranno sostituite."
   ]
  },
  {
   "cell_type": "code",
   "execution_count": null,
   "metadata": {},
   "outputs": [],
   "source": [
    "def next_states(self, state):\n",
    "    next_states = []\n",
    "    for move in self.moves:\n",
    "        new_state = self.apply_move(state, move)\n",
    "        if self.is_valid(new_state):\n",
    "            next_states.append(new_state)\n",
    "    return next_states"
   ]
  },
  {
   "cell_type": "code",
   "execution_count": null,
   "metadata": {},
   "outputs": [],
   "source": [
    "# Implementazione alternativa di next_states\n",
    "def next_states(self, state):\n",
    "    return [new_state for move in self.moves if self.is_valid(new_state := self.apply_move(state, move))]"
   ]
  },
  {
   "cell_type": "markdown",
   "metadata": {},
   "source": [
    "A questo punto, possiamo eseguire una ricerca in ampiezza per trovare una sequenza di stati che porti dallo stato iniziale a quello finale.\n",
    "\n",
    "Questo codice e' identico a quello per il grafo esplicito perche' abbiamo raggiunto un livello di astrazione sufficientemente elevato."
   ]
  },
  {
   "cell_type": "code",
   "execution_count": null,
   "metadata": {},
   "outputs": [
    {
     "ename": "",
     "evalue": "",
     "output_type": "error",
     "traceback": [
      "\u001b[1;31mRunning cells with 'Python 3.13.0' requires the ipykernel package.\n",
      "\u001b[1;31mRun the following command to install 'ipykernel' into the Python environment. \n",
      "\u001b[1;31mCommand: '/opt/homebrew/bin/python3 -m pip install ipykernel -U --user --force-reinstall'"
     ]
    }
   ],
   "source": [
    "import copy\n",
    "import matplotlib.pyplot as plt\n",
    "import numpy as np\n",
    "from itertools import pairwise\n",
    "\n",
    "\n",
    "class Agent_2():\n",
    "    def __init__(self):\n",
    "        self.start = {'L': {'m': 3, 'c': 3},\n",
    "                      'R': {'m': 0, 'c': 0},\n",
    "                      'boat':  'L'}\n",
    "\n",
    "        self.goal  = {'L': {'m': 0, 'c': 0},\n",
    "                      'R': {'m': 3, 'c': 3},\n",
    "                      'boat':  'R'}\n",
    "\n",
    "        # devo generare tutte le mosse possibili come una lista di stati.\n",
    "        self.moves = [{'m': i, 'c': j} for i in range(3) for j in range(3) if i + j > 0 and i + j <= 2]\n",
    "\n",
    "        self.frontier = [[self.start]]\n",
    "\n",
    "    def is_valid(self, state):\n",
    "        for side in ['L', 'R']:\n",
    "            if state[side]['m'] < 0 or state[side]['c'] < 0:\n",
    "                return False\n",
    "            if state[side]['m'] > 0 and state[side]['c'] > state[side]['m']:\n",
    "                return False\n",
    "            return True\n",
    "\n",
    "    def apply_move(self, state, move):\n",
    "        new_state = copy.deepcopy(state)\n",
    "        new_state['boat'] = 'L' if state['boat'] == 'R' else 'R'\n",
    "        for person in ['m', 'c']:\n",
    "            new_state[state['boat']][person] -= move[person]\n",
    "            new_state[new_state['boat']][person] += move[person]\n",
    "        return new_state\n",
    "\n",
    "    def next_states(self, state):\n",
    "        next_states = []\n",
    "        for move in self.moves:\n",
    "            new_state = self.apply_move(state, move)\n",
    "            if self.is_valid(new_state):\n",
    "                next_states.append(new_state)\n",
    "        return next_states\n",
    "\n",
    "    def is_goal(self, state):\n",
    "        return state == self.goal\n",
    "\n",
    "    def bfs(self):\n",
    "        while self.frontier:\n",
    "            path = self.frontier.pop(0)\n",
    "            if self.is_goal(path[-1]):\n",
    "                yield path\n",
    "            self.frontier.extend([path + [state] for state in self.next_states(path[-1]) if state not in path])\n",
    "\n",
    "\n",
    "    def states_to_moves(self, path):\n",
    "        for i,j in pairwise(path):\n",
    "            for move in self.moves:\n",
    "                if self.apply_move(i, move) == j:\n",
    "                    yield str(move['m']) + ' missionaries and ' + str(move['c']) + ' cannibals from ' + i['boat'] + ' to ' + j['boat']\n",
    "                    break\n",
    "\n",
    "    def plot_states(self, path):\n",
    "        offsets= {'L': -1, 'R': 1}\n",
    "        coords = []\n",
    "        for i, state in enumerate(path):\n",
    "            for side in ['L', 'R']:\n",
    "                offset = offsets[side]\n",
    "                for person, person_type in [('m', 0), ('c', 1)]:\n",
    "                    for _ in range(state[side][person]):\n",
    "                        coords.append([offsets[side] + offset, -i, person_type])\n",
    "                        offset += offsets[side]\n",
    "        coords = np.array(coords)\n",
    "        plt.scatter(*coords[coords[:, 2] == 0][:, :2].T, c='b', label='missionaries')\n",
    "        plt.scatter(*coords[coords[:, 2] == 1][:, :2].T, c='r', label='cannibals')\n",
    "        # add legend\n",
    "        plt.legend(['missionaries', 'cannibals'], loc='lower left')\n",
    "        plt.show()\n",
    "\n",
    "    def solve(self):\n",
    "        path = next(self.bfs())\n",
    "        if path:\n",
    "            print(*path, sep = '\\n')\n",
    "            print(*self.states_to_moves(path), sep='\\n')\n",
    "            self.plot_states(path)"
   ]
  },
  {
   "cell_type": "code",
   "execution_count": 74,
   "metadata": {},
   "outputs": [
    {
     "name": "stdout",
     "output_type": "stream",
     "text": [
      "{'L': {'m': 3, 'c': 3}, 'R': {'m': 0, 'c': 0}, 'boat': 'L'}\n",
      "{'L': {'m': 3, 'c': 1}, 'R': {'m': 0, 'c': 2}, 'boat': 'R'}\n",
      "{'L': {'m': 3, 'c': 2}, 'R': {'m': 0, 'c': 1}, 'boat': 'L'}\n",
      "{'L': {'m': 3, 'c': 0}, 'R': {'m': 0, 'c': 3}, 'boat': 'R'}\n",
      "{'L': {'m': 3, 'c': 1}, 'R': {'m': 0, 'c': 2}, 'boat': 'L'}\n",
      "{'L': {'m': 2, 'c': 0}, 'R': {'m': 1, 'c': 3}, 'boat': 'R'}\n",
      "{'L': {'m': 2, 'c': 1}, 'R': {'m': 1, 'c': 2}, 'boat': 'L'}\n",
      "{'L': {'m': 1, 'c': 0}, 'R': {'m': 2, 'c': 3}, 'boat': 'R'}\n",
      "{'L': {'m': 1, 'c': 1}, 'R': {'m': 2, 'c': 2}, 'boat': 'L'}\n",
      "{'L': {'m': 0, 'c': 0}, 'R': {'m': 3, 'c': 3}, 'boat': 'R'}\n"
     ]
    },
    {
     "ename": "TypeError",
     "evalue": "'module' object is not callable",
     "output_type": "error",
     "traceback": [
      "\u001b[0;31m---------------------------------------------------------------------------\u001b[0m",
      "\u001b[0;31mTypeError\u001b[0m                                 Traceback (most recent call last)",
      "Cell \u001b[0;32mIn[74], line 2\u001b[0m\n\u001b[1;32m      1\u001b[0m agent_2 \u001b[38;5;241m=\u001b[39m Agent_2()\n\u001b[0;32m----> 2\u001b[0m \u001b[43magent_2\u001b[49m\u001b[38;5;241;43m.\u001b[39;49m\u001b[43msolve\u001b[49m\u001b[43m(\u001b[49m\u001b[43m)\u001b[49m\n",
      "Cell \u001b[0;32mIn[73], line 83\u001b[0m, in \u001b[0;36mAgent_2.solve\u001b[0;34m(self)\u001b[0m\n\u001b[1;32m     81\u001b[0m \u001b[38;5;28;01mif\u001b[39;00m path:\n\u001b[1;32m     82\u001b[0m     \u001b[38;5;28mprint\u001b[39m(\u001b[38;5;241m*\u001b[39mpath, sep \u001b[38;5;241m=\u001b[39m \u001b[38;5;124m'\u001b[39m\u001b[38;5;130;01m\\n\u001b[39;00m\u001b[38;5;124m'\u001b[39m)\n\u001b[0;32m---> 83\u001b[0m     \u001b[38;5;28;43mprint\u001b[39;49m\u001b[43m(\u001b[49m\u001b[38;5;241;43m*\u001b[39;49m\u001b[38;5;28;43mself\u001b[39;49m\u001b[38;5;241;43m.\u001b[39;49m\u001b[43mstates_to_moves\u001b[49m\u001b[43m(\u001b[49m\u001b[43mpath\u001b[49m\u001b[43m)\u001b[49m\u001b[43m,\u001b[49m\u001b[43m \u001b[49m\u001b[43msep\u001b[49m\u001b[38;5;241;43m=\u001b[39;49m\u001b[38;5;124;43m'\u001b[39;49m\u001b[38;5;130;43;01m\\n\u001b[39;49;00m\u001b[38;5;124;43m'\u001b[39;49m\u001b[43m)\u001b[49m\n\u001b[1;32m     84\u001b[0m     \u001b[38;5;28mself\u001b[39m\u001b[38;5;241m.\u001b[39mplot_states(path)\n",
      "Cell \u001b[0;32mIn[73], line 56\u001b[0m, in \u001b[0;36mAgent_2.states_to_moves\u001b[0;34m(self, path)\u001b[0m\n\u001b[1;32m     55\u001b[0m \u001b[38;5;28;01mdef\u001b[39;00m \u001b[38;5;21mstates_to_moves\u001b[39m(\u001b[38;5;28mself\u001b[39m, path):\n\u001b[0;32m---> 56\u001b[0m     \u001b[38;5;28;01mfor\u001b[39;00m i,j \u001b[38;5;129;01min\u001b[39;00m \u001b[43mpairwise\u001b[49m\u001b[43m(\u001b[49m\u001b[43mpath\u001b[49m\u001b[43m)\u001b[49m:\n\u001b[1;32m     57\u001b[0m         \u001b[38;5;28;01mfor\u001b[39;00m move \u001b[38;5;129;01min\u001b[39;00m \u001b[38;5;28mself\u001b[39m\u001b[38;5;241m.\u001b[39mmoves:\n\u001b[1;32m     58\u001b[0m             \u001b[38;5;28;01mif\u001b[39;00m \u001b[38;5;28mself\u001b[39m\u001b[38;5;241m.\u001b[39mapply_move(i, move) \u001b[38;5;241m==\u001b[39m j:\n",
      "\u001b[0;31mTypeError\u001b[0m: 'module' object is not callable"
     ]
    }
   ],
   "source": [
    "agent_2 = Agent_2()\n",
    "agent_2.solve()"
   ]
  }
 ],
 "metadata": {
  "kernelspec": {
   "display_name": "Python 3",
   "language": "python",
   "name": "python3"
  },
  "language_info": {
   "codemirror_mode": {
    "name": "ipython",
    "version": 3
   },
   "file_extension": ".py",
   "mimetype": "text/x-python",
   "name": "python",
   "nbconvert_exporter": "python",
   "pygments_lexer": "ipython3",
   "version": "3.13.0"
  }
 },
 "nbformat": 4,
 "nbformat_minor": 2
}
